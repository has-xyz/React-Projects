{
 "cells": [
  {
   "cell_type": "code",
   "execution_count": 1,
   "metadata": {},
   "outputs": [],
   "source": [
    "from os import listdir\n",
    "from os.path import isfile, join\n",
    "onlyfiles = [f for f in listdir('./face') if isfile(join('./face', f))]"
   ]
  },
  {
   "cell_type": "code",
   "execution_count": 2,
   "metadata": {},
   "outputs": [],
   "source": [
    "from PIL import Image\n",
    "dir = './face/'\n",
    "# Image.open(dir + onlyfiles[0], mode='r')"
   ]
  },
  {
   "cell_type": "code",
   "execution_count": 12,
   "metadata": {},
   "outputs": [],
   "source": [
    "# Opens a image in RGB mode\n",
    "im = Image.open(dir + onlyfiles[0])\n",
    "index = 1\n",
    " \n",
    "# Size of the image in pixels (size of original image)\n",
    "# (This is not mandatory)\n",
    "width, height = im.size\n",
    " \n",
    "# RIGHT EYE    \n",
    "# Setting the points for cropped image\n",
    "left = 550\n",
    "top = 388\n",
    "right = 550 + 218\n",
    "bottom = 388 + 164 \n",
    " \n",
    "# Cropped image of above dimension\n",
    "# (It will not change original image)\n",
    "im1 = im.crop((left, top, right, bottom))\n",
    " \n",
    "# Save the image\n",
    "im1 = im1.save(f\"./rightEye/rightEye{index}.png\")"
   ]
  },
  {
   "cell_type": "code",
   "execution_count": 3,
   "metadata": {},
   "outputs": [],
   "source": [
    "onlyfiles = [f for f in listdir('./face') if isfile(join('./face', f))]\n",
    "\n",
    "def createFeatures():\n",
    "    index = 1\n",
    "    for file in onlyfiles:\n",
    "        face = Image.open(f'./face/{file}')\n",
    "        \n",
    "        \n",
    "        # Crop and save the image\n",
    "        rightEye = face.crop((550, 388, 768, 552))\n",
    "        leftEye = face.crop((260, 388, 478, 552))\n",
    "        mouth = face.crop((360, 690, 672, 824))\n",
    "        nose = face.crop((414, 556, 610, 682))\n",
    "        rightEye = rightEye.save(f\"./rightEye/rightEye{index}.png\")\n",
    "        leftEye = leftEye.save(f\"./leftEye/leftEye{index}.png\")\n",
    "        mouth = mouth.save(f\"./mouth/mouth{index}.png\")\n",
    "        nose = nose.save(f\"./nose/nose{index}.png\")\n",
    "        \n",
    "        print(f'Created face {index}. ------***')\n",
    "        index += 1\n",
    "        \n",
    "        "
   ]
  },
  {
   "cell_type": "code",
   "execution_count": 4,
   "metadata": {},
   "outputs": [
    {
     "name": "stdout",
     "output_type": "stream",
     "text": [
      "Created face 1. ------***\n",
      "Created face 2. ------***\n",
      "Created face 3. ------***\n",
      "Created face 4. ------***\n",
      "Created face 5. ------***\n",
      "Created face 6. ------***\n",
      "Created face 7. ------***\n",
      "Created face 8. ------***\n",
      "Created face 9. ------***\n",
      "Created face 10. ------***\n",
      "Created face 11. ------***\n",
      "Created face 12. ------***\n",
      "Created face 13. ------***\n",
      "Created face 14. ------***\n",
      "Created face 15. ------***\n",
      "Created face 16. ------***\n",
      "Created face 17. ------***\n",
      "Created face 18. ------***\n",
      "Created face 19. ------***\n",
      "Created face 20. ------***\n",
      "Created face 21. ------***\n",
      "Created face 22. ------***\n",
      "Created face 23. ------***\n",
      "Created face 24. ------***\n",
      "Created face 25. ------***\n",
      "Created face 26. ------***\n",
      "Created face 27. ------***\n",
      "Created face 28. ------***\n",
      "Created face 29. ------***\n",
      "Created face 30. ------***\n",
      "Created face 31. ------***\n",
      "Created face 32. ------***\n",
      "Created face 33. ------***\n",
      "Created face 34. ------***\n",
      "Created face 35. ------***\n",
      "Created face 36. ------***\n",
      "Created face 37. ------***\n",
      "Created face 38. ------***\n",
      "Created face 39. ------***\n",
      "Created face 40. ------***\n",
      "Created face 41. ------***\n",
      "Created face 42. ------***\n",
      "Created face 43. ------***\n",
      "Created face 44. ------***\n",
      "Created face 45. ------***\n",
      "Created face 46. ------***\n",
      "Created face 47. ------***\n",
      "Created face 48. ------***\n",
      "Created face 49. ------***\n",
      "Created face 50. ------***\n",
      "Created face 51. ------***\n",
      "Created face 52. ------***\n",
      "Created face 53. ------***\n",
      "Created face 54. ------***\n",
      "Created face 55. ------***\n",
      "Created face 56. ------***\n",
      "Created face 57. ------***\n",
      "Created face 58. ------***\n",
      "Created face 59. ------***\n",
      "Created face 60. ------***\n",
      "Created face 61. ------***\n",
      "Created face 62. ------***\n",
      "Created face 63. ------***\n",
      "Created face 64. ------***\n",
      "Created face 65. ------***\n",
      "Created face 66. ------***\n",
      "Created face 67. ------***\n",
      "Created face 68. ------***\n",
      "Created face 69. ------***\n",
      "Created face 70. ------***\n",
      "Created face 71. ------***\n",
      "Created face 72. ------***\n",
      "Created face 73. ------***\n",
      "Created face 74. ------***\n",
      "Created face 75. ------***\n",
      "Created face 76. ------***\n",
      "Created face 77. ------***\n",
      "Created face 78. ------***\n",
      "Created face 79. ------***\n",
      "Created face 80. ------***\n",
      "Created face 81. ------***\n",
      "Created face 82. ------***\n",
      "Created face 83. ------***\n",
      "Created face 84. ------***\n",
      "Created face 85. ------***\n",
      "Created face 86. ------***\n",
      "Created face 87. ------***\n",
      "Created face 88. ------***\n",
      "Created face 89. ------***\n",
      "Created face 90. ------***\n",
      "Created face 91. ------***\n",
      "Created face 92. ------***\n",
      "Created face 93. ------***\n",
      "Created face 94. ------***\n",
      "Created face 95. ------***\n",
      "Created face 96. ------***\n",
      "Created face 97. ------***\n",
      "Created face 98. ------***\n",
      "Created face 99. ------***\n",
      "Created face 100. ------***\n"
     ]
    }
   ],
   "source": [
    "createFeatures()"
   ]
  },
  {
   "cell_type": "code",
   "execution_count": 32,
   "metadata": {},
   "outputs": [
    {
     "data": {
      "text/plain": [
       "682"
      ]
     },
     "execution_count": 32,
     "metadata": {},
     "output_type": "execute_result"
    }
   ],
   "source": [
    "556+126"
   ]
  },
  {
   "cell_type": "code",
   "execution_count": null,
   "metadata": {},
   "outputs": [],
   "source": [
    "414\t556\n",
    "196\t126"
   ]
  }
 ],
 "metadata": {
  "kernelspec": {
   "display_name": "Python 3",
   "language": "python",
   "name": "python3"
  },
  "language_info": {
   "codemirror_mode": {
    "name": "ipython",
    "version": 3
   },
   "file_extension": ".py",
   "mimetype": "text/x-python",
   "name": "python",
   "nbconvert_exporter": "python",
   "pygments_lexer": "ipython3",
   "version": "3.8.3"
  }
 },
 "nbformat": 4,
 "nbformat_minor": 4
}
